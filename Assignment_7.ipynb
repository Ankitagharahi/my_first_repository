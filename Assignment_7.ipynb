{
  "nbformat": 4,
  "nbformat_minor": 0,
  "metadata": {
    "colab": {
      "provenance": [],
      "authorship_tag": "ABX9TyOEl7Vda9QQOsxweZtZEflK",
      "include_colab_link": true
    },
    "kernelspec": {
      "name": "python3",
      "display_name": "Python 3"
    },
    "language_info": {
      "name": "python"
    }
  },
  "cells": [
    {
      "cell_type": "markdown",
      "metadata": {
        "id": "view-in-github",
        "colab_type": "text"
      },
      "source": [
        "<a href=\"https://colab.research.google.com/github/Ankitagharahi/my_first_repository/blob/main/Assignment_7.ipynb\" target=\"_parent\"><img src=\"https://colab.research.google.com/assets/colab-badge.svg\" alt=\"Open In Colab\"/></a>"
      ]
    },
    {
      "cell_type": "code",
      "execution_count": null,
      "metadata": {
        "id": "B-Z8mohsQTpS"
      },
      "outputs": [],
      "source": [
        "#What is the purpose of the len() function in Python, and how can it be used with strings?\n",
        "\n",
        "The `len()` function in Python is used to determine the length of a sequence, such as a string, list, tuple, etc. When used with strings, it returns the number of characters in the string. For example:\n",
        "\n",
        "```python\n",
        "string = \"Hello, world!\"\n",
        "length = len(string)\n",
        "print(length)  # Output: 13\n",
        "```\n",
        "\n",
        "This function is handy when you need to know the size of a string dynamically, for example, when working with loops or conditional statements."
      ]
    },
    {
      "cell_type": "code",
      "source": [
        "#How can you concatenate two or more strings in Python, and can you provide an example of string concatenation?\n",
        "\n",
        "In Python, you can concatenate two or more strings using the `+` operator. Here's an example:\n",
        "\n",
        "```python\n",
        "str1 = \"Hello\"\n",
        "str2 = \"world\"\n",
        "concatenated_string = str1 + \", \" + str2 + \"!\"\n",
        "print(concatenated_string)  # Output: Hello, world!\n",
        "```\n",
        "\n",
        "You can also use the `+=` operator to concatenate strings with an existing string variable:\n",
        "\n",
        "```python\n",
        "str1 = \"Hello\"\n",
        "str2 = \"world\"\n",
        "str1 += \", \" + str2 + \"!\"\n",
        "print(str1)  # Output: Hello, world!\n",
        "```\n",
        "\n",
        "Both methods achieve the same result."
      ],
      "metadata": {
        "id": "d6C-_6C0RegF"
      },
      "execution_count": null,
      "outputs": []
    },
    {
      "cell_type": "code",
      "source": [
        "#What is string slicing in Python, and how can you extract a portion of a string using this method?\n",
        "\n",
        "String slicing in Python is a technique used to extract a portion of a string by specifying start and end indices. The syntax for string slicing is `string[start_index:end_index]`, where `start_index` is the index where the slice starts (inclusive) and `end_index` is the index where the slice ends (exclusive).\n",
        "\n",
        "Here's an example of how to use string slicing:\n",
        "\n",
        "```python\n",
        "string = \"Hello, world!\"\n",
        "substring = string[7:12]\n",
        "print(substring)  # Output: world\n",
        "```\n",
        "\n",
        "In this example, `string[7:12]` extracts the characters from index 7 (inclusive) to index 12 (exclusive) from the string \"Hello, world!\", resulting in the substring \"world\".\n",
        "\n",
        "You can also omit the `start_index` or `end_index` to slice from the beginning or end of the string, respectively. For example:\n",
        "\n",
        "```python\n",
        "string = \"Hello, world!\"\n",
        "substring = string[:5]  # slice from the beginning to index 5\n",
        "print(substring)  # Output: Hello\n",
        "\n",
        "substring = string[7:]  # slice from index 7 to the end\n",
        "print(substring)  # Output: world!\n",
        "```"
      ],
      "metadata": {
        "id": "SwY7yUqNTgGL"
      },
      "execution_count": null,
      "outputs": []
    },
    {
      "cell_type": "code",
      "source": [
        "#How can you change the case of a string in Python, and can you provide examples of both making a string all uppercase and all lowercase?\n",
        "\n",
        "In Python, you can change the case of a string using the `upper()` and `lower()` methods. Here are examples of both making a string all uppercase and all lowercase:\n",
        "\n",
        "Making a string all uppercase:\n",
        "\n",
        "```python\n",
        "string = \"Hello, world!\"\n",
        "uppercase_string = string.upper()\n",
        "print(uppercase_string)  # Output: HELLO, WORLD!\n",
        "```\n",
        "\n",
        "Making a string all lowercase:\n",
        "\n",
        "```python\n",
        "string = \"Hello, world!\"\n",
        "lowercase_string = string.lower()\n",
        "print(lowercase_string)  # Output: hello, world!\n",
        "```\n",
        "\n",
        "These methods are useful for standardizing the case of strings, which can be helpful for comparison or formatting purposes.\n"
      ],
      "metadata": {
        "id": "tKPQvb_lUxn6"
      },
      "execution_count": null,
      "outputs": []
    },
    {
      "cell_type": "code",
      "source": [
        "#What does the split() method do in Python, and how can you split a string using a specific delimiter?\n",
        "\n",
        "The `split()` method in Python is used to split a string into a list of substrings based on a specified delimiter. By default, if no delimiter is specified, it splits the string using whitespace characters (spaces, tabs, newlines, etc.).\n",
        "\n",
        "Here's an example of how to split a string using the `split()` method:\n",
        "\n",
        "```python\n",
        "string = \"apple,banana,orange\"\n",
        "splitted_string = string.split(\",\")\n",
        "print(splitted_string)  # Output: ['apple', 'banana', 'orange']\n",
        "```\n",
        "\n",
        "In this example, the `split(\",\")` method splits the string \"apple,banana,orange\" into substrings whenever a comma (`,`) is encountered, resulting in the list `['apple', 'banana', 'orange']`.\n",
        "\n",
        "You can also specify a different delimiter to split the string. For example:\n",
        "\n",
        "```python\n",
        "string = \"apple;banana;orange\"\n",
        "splitted_string = string.split(\";\")\n",
        "print(splitted_string)  # Output: ['apple', 'banana', 'orange']\n",
        "```\n",
        "\n",
        "In this case, the string is split using a semicolon (`;`) as the delimiter, resulting in the same list `['apple', 'banana', 'orange']`."
      ],
      "metadata": {
        "id": "aOQiRO8AbnRj"
      },
      "execution_count": null,
      "outputs": []
    }
  ]
}